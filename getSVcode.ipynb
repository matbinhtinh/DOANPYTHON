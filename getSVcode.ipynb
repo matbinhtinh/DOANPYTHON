{
 "cells": [
  {
   "cell_type": "code",
   "execution_count": 1,
   "metadata": {},
   "outputs": [
    {
     "name": "stdout",
     "output_type": "stream",
     "text": [
      "Processing....waiting for minutes...\n"
     ]
    }
   ],
   "source": [
    "\n",
    "import requests\n",
    "from bs4 import BeautifulSoup\n",
    "import pandas as pd\n",
    "import time\n",
    "url = 'http://thongtindaotao.sgu.edu.vn/Default.aspx?page=thoikhoabieu&sta=1&id=31'\n",
    "n=18\n",
    "# n = int(input('nhap khoa ma ban muon tim ma sinh vien:'))\n",
    "# while n not in range(17,22):\n",
    "#       n = int(input('nhap khoa ma ban muon tim ma sinh vien:'))\n",
    "url = url +str(n)+'41'\n",
    "Code = []\n",
    "print('Processing....waiting for minutes...')\n",
    "for i in range(1000):\n",
    "    if i in range(10):\n",
    "        StudenCode = '{}{}'.format('000',i)\n",
    "    elif  i in range(100):\n",
    "        StudenCode = '{}{}'.format('00',i)\n",
    "    elif  i in range(1000):\n",
    "        StudenCode = '{}{}'.format('0',i)\n",
    "    else:\n",
    "        StudenCode = str(i)\n",
    "    URL = url +StudenCode\n",
    "    response = requests.get(URL)\n",
    "    response = BeautifulSoup(response.content,'html.parser')\n",
    "    timetable = response.find('div',class_ = 'grid-roll2')\n",
    "    if timetable != None:\n",
    "        if len(timetable.get_text()) != 1 :\n",
    "            Code.append('31'+str(n)+'41'+StudenCode)\n",
    "    time.sleep(0.1)\n",
    "df = pd.DataFrame(Code)\n",
    "df.to_csv('maSVk18.csv',index = False)\n"
   ]
  },
  {
   "cell_type": "code",
   "execution_count": null,
   "metadata": {},
   "outputs": [],
   "source": []
  }
 ],
 "metadata": {
  "interpreter": {
   "hash": "0dda09140a1fd88ea879080486bbeb4c81cc74626dc51b563162033e734c6912"
  },
  "kernelspec": {
   "display_name": "Python 3.10.2 64-bit",
   "language": "python",
   "name": "python3"
  },
  "language_info": {
   "codemirror_mode": {
    "name": "ipython",
    "version": 3
   },
   "file_extension": ".py",
   "mimetype": "text/x-python",
   "name": "python",
   "nbconvert_exporter": "python",
   "pygments_lexer": "ipython3",
   "version": "3.10.2"
  },
  "orig_nbformat": 4
 },
 "nbformat": 4,
 "nbformat_minor": 2
}
