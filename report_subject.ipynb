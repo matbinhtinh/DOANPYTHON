{
 "cells": [
  {
   "cell_type": "code",
   "execution_count": 1,
   "metadata": {},
   "outputs": [],
   "source": [
    "import requests\n",
    "from bs4 import BeautifulSoup\n",
    "import pandas as pd\n",
    "import re\n",
    "df = pd.read_csv('maSVk18.csv')\n",
    "Code_list = df['0'].tolist()\n",
    "last_semester_listCode = []\n",
    "mark_last_semester = []\n",
    "credit_list = []\n",
    "graduate_type_list = []\n",
    "for Code in Code_list:\n",
    "    url = 'http://thongtindaotao.sgu.edu.vn/Default.aspx?page=xemdiemthi&id='\n",
    "    URL = url + str(Code)\n",
    "    response = requests.get(URL)\n",
    "    page_source = BeautifulSoup(response.content)\n",
    "    mark = page_source.find_all('td',align = 'left',colspan = '14')\n",
    "    last_semester = mark[len(mark)-8]\n",
    "    mark_semester = mark[len(mark)-4]\n",
    "    credit = mark[len(mark)-2]\n",
    "    last_semester = last_semester.get_text()\n",
    "    mark_semester = mark_semester.get_text()\n",
    "    credit = credit.get_text()\n",
    "    if last_semester == 'Học kỳ 1 - Năm học 2021-2022':\n",
    "        last_semester_listCode.append(Code)\n",
    "        mark_last_semester.append(mark_semester[-4:])\n",
    "        credit = credit[-3:]\n",
    "        if ':' in credit:\n",
    "            credit_list.append(credit[-2:])\n",
    "        else:\n",
    "            credit_list.append(credit[-3:])\n",
    "    subjects = page_source.find_all('td',align = 'left',width = '250')\n",
    "    MonThayThe = ['Seminar chuyên đề','\tCác công nghệ lập trình hiện đại','Khai phá dữ liệu']\n",
    "    flag = False\n",
    "    for subject in subjects:\n",
    "        subject_name = subject.get_text().strip()\n",
    "        if subject_name in MonThayThe:\n",
    "            graduate_type_list.append('Mon Thay The')\n",
    "            flag = True\n",
    "            break\n",
    "        elif subject_name == 'Khóa luận tốt nghiệp (DCT)':\n",
    "            graduate_type_list.append('Khoa luan')\n",
    "            flag = True\n",
    "            break\n",
    "    if flag == False:\n",
    "        graduate_type_list.append('Chua xac dinh')\n",
    "dict = {'ma SV':last_semester_listCode,'diem':mark_last_semester,'tin tich luy':credit_list,'loai tot nghiep':graduate_type_list}\n",
    "df = pd.DataFrame(dict)\n",
    "df.to_csv('diemk18.csv',index = False)\n"
   ]
  }
 ],
 "metadata": {
  "kernelspec": {
   "display_name": "Python 3.10.2 64-bit",
   "language": "python",
   "name": "python3"
  },
  "language_info": {
   "codemirror_mode": {
    "name": "ipython",
    "version": 3
   },
   "file_extension": ".py",
   "mimetype": "text/x-python",
   "name": "python",
   "nbconvert_exporter": "python",
   "pygments_lexer": "ipython3",
   "version": "3.10.2"
  },
  "orig_nbformat": 4,
  "vscode": {
   "interpreter": {
    "hash": "67e0cbc25fa4f5baaacba1240f401bc655b640f8e15cfc935dfee2e63491bdf4"
   }
  }
 },
 "nbformat": 4,
 "nbformat_minor": 2
}
